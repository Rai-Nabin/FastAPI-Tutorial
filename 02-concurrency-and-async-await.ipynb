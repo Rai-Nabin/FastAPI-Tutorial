{
 "cells": [
  {
   "cell_type": "markdown",
   "metadata": {},
   "source": [
    "# Concurrency and async/await"
   ]
  },
  {
   "cell_type": "markdown",
   "metadata": {},
   "source": [
    "Reference: [FastAPI docs](https://fastapi.tiangolo.com/async/#is-concurrency-better-than-parallelism)"
   ]
  },
  {
   "cell_type": "markdown",
   "metadata": {},
   "source": [
    "If you are using third party libraries that tell you to call them with `await`, like:\n",
    "\n",
    "`results = await some_library()`\n"
   ]
  },
  {
   "cell_type": "markdown",
   "metadata": {},
   "source": [
    "Then, declare your path operation functions with `async def` like:\n",
    "```python\n",
    "@app.get('/')\n",
    "async def read_results():\n",
    "    results = await some_library()\n",
    "    return results\n",
    "```"
   ]
  },
  {
   "cell_type": "markdown",
   "metadata": {},
   "source": [
    "**Note**: You can only use `await` inside of functions with `async def`."
   ]
  },
  {
   "cell_type": "markdown",
   "metadata": {},
   "source": [
    "- When using a third-party library that interacts with external systems (e.g., a database, an API, the file system).\n",
    "- If the library doesn't support `await` (common with many database libraries).\n",
    "- Declare your path operation functions with a regular `def` instead of `async def`.\n",
    "```python\n",
    "@app.get('/')\n",
    "def results():\n",
    "    results = some_library()\n",
    "    return results\n",
    "```"
   ]
  },
  {
   "cell_type": "markdown",
   "metadata": {},
   "source": [
    "- If your application (somehow) doesn't have to communicate with anything else and wait for it to respond, use `async def`.\n",
    "- If you just don't know, use normal `def`."
   ]
  },
  {
   "cell_type": "markdown",
   "metadata": {},
   "source": [
    "**Note**:\n",
    "\n",
    "- You can mix `def` and `async def` in your path operation functions as needed.\n",
    "- Define each function using the most appropriate option for your use case.\n",
    "- FastAPI will handle both `def` and `async def` functions correctly.\n",
    "- FastAPI will continue to operate asynchronously and maintain high performance.\n",
    "- Following these guidelines allows FastAPI to optimize performance further."
   ]
  },
  {
   "cell_type": "markdown",
   "metadata": {},
   "source": [
    "### Technical Details\n",
    "Recent versions of Python support writing asynchronous code through a concept called \"coroutines.\" Coroutines allow for non-blocking operations, meaning that while waiting for certain tasks (like I/O operations) to complete, other code can continue running."
   ]
  },
  {
   "cell_type": "markdown",
   "metadata": {},
   "source": [
    "**Asynchronous Code**\n",
    "- Asynchronous code allows a program to handle tasks that require waiting (e.g., for I/O operations) without blocking execution.\n",
    "- During waiting, the program can perform other tasks rather than doing nothing.\n",
    "- The program periodically checks if any of the waiting tasks have completed.\n",
    "- Once a task finishes (e.g., reading a file, receiving network data), the program processes it.\n",
    "- Common \"slow\" tasks include network operations, file I/O, and database queries.\n",
    "- These operations are \"I/O bound\" and can be performed asynchronously to improve efficiency.\n",
    "- Asynchronous programming avoids waiting idly for tasks to finish and allows the program to manage multiple tasks more effectively.\n",
    "- Synchronous (or sequential) programming executes tasks in a strict order, blocking until each task completes before moving on.\n"
   ]
  },
  {
   "cell_type": "markdown",
   "metadata": {},
   "source": [
    "### Concurrency + Parallelism: Web + Machine Learing\n",
    "- FastAPI leverages concurrency, a common feature in web development, similar to NodeJS.\n",
    "- It also supports parallelism and multiprocessing for CPU-bound tasks, such as those in Machine Learning.\n",
    "- Python’s prominence in Data Science, Machine Learning, and Deep Learning enhances FastAPI’s suitability for Data Science and Machine Learning web APIs and applications.\n",
    "- This combination makes FastAPI a strong choice for building data-intensive and machine learning applications."
   ]
  },
  {
   "cell_type": "markdown",
   "metadata": {},
   "source": [
    "### More technical details\n",
    "- `await` can only be used inside functions defined with `async def`.\n",
    "- Functions defined with `async def` must be \"awaited\" and can only be called inside other `async def` functions.\n",
    "- This creates a circular dependency: how do you call the first `async` function?\n",
    "- With FastAPI, you don't need to worry about this because your path operation function handles it, and FastAPI manages the execution.\n",
    "- If you're using async/await outside of FastAPI, you can still implement it by ensuring that all async functions are called within other async functions."
   ]
  },
  {
   "cell_type": "markdown",
   "metadata": {},
   "source": [
    "### Coroutines\n",
    "- A **coroutine** is the term for the object returned by an `async def` function.\n",
    "- It is like a function that Python can start and will eventually finish, but it may pause internally due to `await`.\n",
    "- The use of `async` and `await` is often summarized as using \"coroutines.\"\n",
    "- This concept is similar to \"Goroutines\" in Go, which is a key feature of the Go language."
   ]
  },
  {
   "cell_type": "markdown",
   "metadata": {},
   "source": [
    "### Path operation functions\n",
    "- When using `def` for a path operation function instead of `async def`, the function is executed in an external threadpool and awaited, rather than running directly (to avoid blocking the server).\n",
    "\n",
    "- If you're transitioning from another async framework where using `def` for trivial compute-only functions provided a slight performance gain, this approach in FastAPI might have the opposite effect.\n",
    "\n",
    "- In FastAPI, it is generally better to use `async def` for path operation functions unless they involve blocking I/O operations.\n",
    "\n",
    "- Regardless of the approach, FastAPI is likely to be faster than or at least comparable to your previous framework."
   ]
  },
  {
   "cell_type": "markdown",
   "metadata": {},
   "source": [
    "### Dependencies\n",
    "- For dependencies in FastAPI, if you use a standard `def` function instead of `async def`, the dependency will be executed in an external threadpool.\n",
    "- This approach ensures that synchronous dependencies do not block the main event loop of the server."
   ]
  },
  {
   "cell_type": "markdown",
   "metadata": {},
   "source": [
    "### Sub-Dependencies\n",
    "- FastAPI supports having multiple dependencies and sub-dependencies that require each other as parameters in function definitions.\n",
    "- Dependencies can be created with either `async def` or `def`.\n",
    "- Dependencies created with `async def` will be awaited, while those created with `def` will be executed on an external thread from the threadpool.\n",
    "- This mixed approach ensures that all dependencies function correctly, with `def` dependencies running asynchronously but not blocking the main event loop."
   ]
  },
  {
   "cell_type": "markdown",
   "metadata": {},
   "source": [
    "### Other Utility Functions\n",
    "- Utility functions that you call directly in your code can be created with either `def` or `async def` without any impact from FastAPI.\n",
    "- If a utility function is defined with `def`, it will be called directly as written in your code.\n",
    "- If a utility function is defined with `async def`, you should use `await` when calling it in your code.\n",
    "- This is different from path operation functions and dependencies, which FastAPI manages for you. For these, synchronous functions are handled in a threadpool, while asynchronous functions are awaited."
   ]
  }
 ],
 "metadata": {
  "language_info": {
   "name": "python"
  }
 },
 "nbformat": 4,
 "nbformat_minor": 2
}
